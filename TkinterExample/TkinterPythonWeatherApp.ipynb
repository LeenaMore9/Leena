{
 "cells": [
  {
   "cell_type": "markdown",
   "metadata": {},
   "source": [
    "# Tkinter Wheather App in Python"
   ]
  },
  {
   "cell_type": "markdown",
   "metadata": {},
   "source": [
    "Python offers multiple options for developing GUI (Graphical User Interface). Out of all the GUI methods, tkinter is the most commonly used method. It is a standard Python interface to the Tk GUI toolkit shipped with Python. Python with tkinter is the fastest and easiest way to create the GUI applications. Creating a GUI using tkinter is an easy task."
   ]
  },
  {
   "cell_type": "markdown",
   "metadata": {},
   "source": [
    "In this app by entering city name we will get current city Wheather information"
   ]
  },
  {
   "cell_type": "code",
   "execution_count": 1,
   "metadata": {},
   "outputs": [],
   "source": [
    "import tkinter as tk\n",
    "from tkinter import font\n",
    "import PIL.Image\n",
    "import PIL.ImageTk\n",
    "import requests\n",
    "\n",
    "\n",
    "#functions\n",
    "def test_function(entry):\n",
    "    print(\"button clicked\", entry)\n",
    "\n",
    "def format_response(weather):\n",
    "    try:\n",
    "        name = weather['name']\n",
    "        description = weather['weather'][0]['description']\n",
    "        temperature = weather['main']['temp']\n",
    "        final_str = 'City: %s \\nConditions: %s \\nTemperature (F): %s' % (name, description, temperature)\n",
    "    except:\n",
    "        final_str = 'There was a problem retrieving that information.'\n",
    "\n",
    "    return final_str\n",
    "\n",
    "def get_weather(city):\n",
    "    \n",
    "    url = 'https://api.openweathermap.org/data/2.5/weather?appid=cbf40c31dc6e53a5b63069b956572b3a'\n",
    "    params = {'q': city, 'units': 'imperial'}\n",
    "    response = requests.get(url, params)\n",
    "    weather = response.json()\n",
    "    format_response(weather)\n",
    "\n",
    "    label['text'] = format_response(weather)\n",
    "\n",
    "HEIGHT = 500\n",
    "WIDTH = 600\n",
    "\n",
    "root = tk.Tk()\n",
    "\n",
    "canvas = tk.Canvas(root, height=HEIGHT, width=WIDTH)\n",
    "canvas.pack()\n",
    "\n",
    "im = PIL.Image.open(\"../sky.jpg\")\n",
    "photo = PIL.ImageTk.PhotoImage(im, master=root)\n",
    "background_label = tk.Label(root, image=photo)\n",
    "background_label.place(relx=0, rely=0, relwidth=1, relheight=1)\n",
    "\n",
    "frame = tk.Frame(root, bg=\"#87cefa\", bd=5)\n",
    "frame.place(relx=0.5, rely=0.1, relwidth=0.75, relheight=0.1, anchor='n')\n",
    "\n",
    "entry = tk.Entry(frame, font=('Courier', 18))\n",
    "entry.place(relx=0, rely=0, relwidth=0.65, relheight=1)\n",
    "\n",
    "button = tk.Button(frame, text=\"Get Weather\", bg=\"gray\", fg=\"white\", font=('Courier', 12), command=lambda: get_weather(entry.get()))\n",
    "button.place(relx=0.7, rely=0, relwidth=0.3, relheight=1)\n",
    "\n",
    "lower_frame = tk.Frame(root, bg='#90c1ff', bd=10)\n",
    "lower_frame.place(relx=0.5, rely=0.25, relwidth=0.75, relheight=0.6, anchor='n')\n",
    "\n",
    "label = tk.Label(lower_frame, font=('Courier', 18))\n",
    "label.place(relx=0, rely=0, relwidth=1, relheight=1)\n",
    "\n",
    "root.mainloop()\n",
    " "
   ]
  },
  {
   "cell_type": "markdown",
   "metadata": {},
   "source": [
    "## Output:"
   ]
  },
  {
   "cell_type": "markdown",
   "metadata": {},
   "source": [
    "![WheatherUrl](https://raw.githubusercontent.com/LeenaMore9/Leena/master/TkinterExample/CaptureWheather.PNG \"Wheather\")"
   ]
  },
  {
   "cell_type": "code",
   "execution_count": null,
   "metadata": {},
   "outputs": [],
   "source": []
  }
 ],
 "metadata": {
  "kernelspec": {
   "display_name": "Python 3",
   "language": "python",
   "name": "python3"
  },
  "language_info": {
   "codemirror_mode": {
    "name": "ipython",
    "version": 3
   },
   "file_extension": ".py",
   "mimetype": "text/x-python",
   "name": "python",
   "nbconvert_exporter": "python",
   "pygments_lexer": "ipython3",
   "version": "3.7.4"
  }
 },
 "nbformat": 4,
 "nbformat_minor": 2
}
